{
 "cells": [
  {
   "cell_type": "code",
   "execution_count": null,
   "id": "60630c93",
   "metadata": {},
   "outputs": [],
   "source": [
    "quick recap:\n",
    "    installation--> environment setup:\n",
    "        1. anaconda\n",
    "        2. github\n",
    "        3. Jupyter notebook overview"
   ]
  },
  {
   "cell_type": "code",
   "execution_count": null,
   "id": "dc34601a",
   "metadata": {},
   "outputs": [],
   "source": [
    "Getting started with python programming:"
   ]
  },
  {
   "cell_type": "code",
   "execution_count": null,
   "id": "b4bbbba6",
   "metadata": {},
   "outputs": [],
   "source": []
  },
  {
   "cell_type": "code",
   "execution_count": null,
   "id": "f52242c3",
   "metadata": {},
   "outputs": [],
   "source": [
    "Understanding the variables in python"
   ]
  },
  {
   "cell_type": "code",
   "execution_count": null,
   "id": "15ed45c5",
   "metadata": {},
   "outputs": [],
   "source": []
  },
  {
   "cell_type": "code",
   "execution_count": 4,
   "id": "7b31e5c4",
   "metadata": {
    "scrolled": false
   },
   "outputs": [
    {
     "data": {
      "text/plain": [
       "30"
      ]
     },
     "execution_count": 4,
     "metadata": {},
     "output_type": "execute_result"
    }
   ],
   "source": [
    "x=10\n",
    "y=20\n",
    "x+y"
   ]
  },
  {
   "cell_type": "code",
   "execution_count": 3,
   "id": "e5e563a4",
   "metadata": {
    "collapsed": true
   },
   "outputs": [
    {
     "ename": "NameError",
     "evalue": "name 'x' is not defined",
     "output_type": "error",
     "traceback": [
      "\u001b[1;31m---------------------------------------------------------------------------\u001b[0m",
      "\u001b[1;31mNameError\u001b[0m                                 Traceback (most recent call last)",
      "\u001b[1;32m<ipython-input-3-259706549f3d>\u001b[0m in \u001b[0;36m<module>\u001b[1;34m\u001b[0m\n\u001b[1;32m----> 1\u001b[1;33m \u001b[0mx\u001b[0m\u001b[1;33m+\u001b[0m\u001b[0my\u001b[0m\u001b[1;33m\u001b[0m\u001b[1;33m\u001b[0m\u001b[0m\n\u001b[0m",
      "\u001b[1;31mNameError\u001b[0m: name 'x' is not defined"
     ]
    }
   ],
   "source": []
  },
  {
   "cell_type": "code",
   "execution_count": null,
   "id": "916d46b8",
   "metadata": {},
   "outputs": [],
   "source": [
    "Rules for declaring the variables in pyton:"
   ]
  },
  {
   "cell_type": "code",
   "execution_count": null,
   "id": "94812b67",
   "metadata": {},
   "outputs": [],
   "source": [
    "1. No Namespaces while declaring the variables name"
   ]
  },
  {
   "cell_type": "code",
   "execution_count": null,
   "id": "361c9111",
   "metadata": {},
   "outputs": [],
   "source": []
  },
  {
   "cell_type": "code",
   "execution_count": 5,
   "id": "7b0cbb72",
   "metadata": {},
   "outputs": [
    {
     "ename": "SyntaxError",
     "evalue": "invalid syntax (<ipython-input-5-ca0dca36d284>, line 1)",
     "output_type": "error",
     "traceback": [
      "\u001b[1;36m  File \u001b[1;32m\"<ipython-input-5-ca0dca36d284>\"\u001b[1;36m, line \u001b[1;32m1\u001b[0m\n\u001b[1;33m    first name = 'Majeed'\u001b[0m\n\u001b[1;37m          ^\u001b[0m\n\u001b[1;31mSyntaxError\u001b[0m\u001b[1;31m:\u001b[0m invalid syntax\n"
     ]
    }
   ],
   "source": [
    "first name = 'Majeed'\n",
    "print(first name)"
   ]
  },
  {
   "cell_type": "code",
   "execution_count": 6,
   "id": "df3a2981",
   "metadata": {},
   "outputs": [
    {
     "name": "stdout",
     "output_type": "stream",
     "text": [
      "Majeed\n"
     ]
    }
   ],
   "source": [
    "firstname = 'Majeed'\n",
    "print(firstname)"
   ]
  },
  {
   "cell_type": "code",
   "execution_count": null,
   "id": "aa5de0d5",
   "metadata": {},
   "outputs": [],
   "source": [
    "2. A variable name should not start with a number **"
   ]
  },
  {
   "cell_type": "code",
   "execution_count": 7,
   "id": "9a51d458",
   "metadata": {},
   "outputs": [
    {
     "ename": "SyntaxError",
     "evalue": "invalid syntax (<ipython-input-7-5cae4ab80a8c>, line 1)",
     "output_type": "error",
     "traceback": [
      "\u001b[1;36m  File \u001b[1;32m\"<ipython-input-7-5cae4ab80a8c>\"\u001b[1;36m, line \u001b[1;32m1\u001b[0m\n\u001b[1;33m    9name = 'Mohammed'\u001b[0m\n\u001b[1;37m     ^\u001b[0m\n\u001b[1;31mSyntaxError\u001b[0m\u001b[1;31m:\u001b[0m invalid syntax\n"
     ]
    }
   ],
   "source": [
    "9name = 'Mohammed'\n",
    "print(9name)"
   ]
  },
  {
   "cell_type": "code",
   "execution_count": 8,
   "id": "151865a3",
   "metadata": {},
   "outputs": [
    {
     "name": "stdout",
     "output_type": "stream",
     "text": [
      "Mohammed\n"
     ]
    }
   ],
   "source": [
    "name9 = 'Mohammed'\n",
    "print(name9)"
   ]
  },
  {
   "cell_type": "code",
   "execution_count": null,
   "id": "b86b03a7",
   "metadata": {},
   "outputs": [],
   "source": []
  },
  {
   "cell_type": "code",
   "execution_count": null,
   "id": "8326f9a5",
   "metadata": {},
   "outputs": [],
   "source": [
    "3. A variable name should not contain any special characters in it."
   ]
  },
  {
   "cell_type": "code",
   "execution_count": null,
   "id": "b2745645",
   "metadata": {},
   "outputs": [],
   "source": [
    "@&$%"
   ]
  },
  {
   "cell_type": "code",
   "execution_count": null,
   "id": "b26e659f",
   "metadata": {},
   "outputs": [],
   "source": []
  },
  {
   "cell_type": "code",
   "execution_count": null,
   "id": "3f3ac5c3",
   "metadata": {},
   "outputs": [],
   "source": [
    "commenting the code in python:"
   ]
  },
  {
   "cell_type": "code",
   "execution_count": null,
   "id": "5918cad6",
   "metadata": {},
   "outputs": [],
   "source": [
    "# ---> it is used for commenting the lines"
   ]
  },
  {
   "cell_type": "code",
   "execution_count": null,
   "id": "a45dfc81",
   "metadata": {},
   "outputs": [],
   "source": [
    "# for executing the cells --> shift+enter button"
   ]
  },
  {
   "cell_type": "code",
   "execution_count": null,
   "id": "ec5ebf6d",
   "metadata": {},
   "outputs": [],
   "source": []
  },
  {
   "cell_type": "code",
   "execution_count": null,
   "id": "34600407",
   "metadata": {},
   "outputs": [],
   "source": [
    "Introduction to datatypes in python:"
   ]
  },
  {
   "cell_type": "code",
   "execution_count": null,
   "id": "6aacf3ad",
   "metadata": {},
   "outputs": [],
   "source": [
    "1. string\n",
    "2. numbers --> integers and float (decimals)\n",
    "3. list\n",
    "4. tuple\n",
    "5. dictionaries"
   ]
  },
  {
   "cell_type": "code",
   "execution_count": null,
   "id": "3ab9821e",
   "metadata": {},
   "outputs": [],
   "source": []
  },
  {
   "cell_type": "code",
   "execution_count": null,
   "id": "4dec71a1",
   "metadata": {},
   "outputs": [],
   "source": [
    "classification of datatypes:\n",
    "    Broadly data types are classified into two categories:\n",
    "        1. mutable datatypes --> it is a flexible datatype -- which can be edited \n",
    "        2. immutable datatypes --> it is a fixed datatype -- which cannot be edited"
   ]
  },
  {
   "cell_type": "code",
   "execution_count": null,
   "id": "ff00ac86",
   "metadata": {},
   "outputs": [],
   "source": []
  },
  {
   "cell_type": "code",
   "execution_count": null,
   "id": "77802858",
   "metadata": {},
   "outputs": [],
   "source": [
    "introduction to string datatype:"
   ]
  },
  {
   "cell_type": "code",
   "execution_count": null,
   "id": "12180fdb",
   "metadata": {},
   "outputs": [],
   "source": [
    "definition: A string is a series of characters declared in quotes.\n",
    "    classification: it is classified as a immutable datatype\n",
    "        how to declare the string:\n",
    "            1. single quote\n",
    "            2. double quote\n",
    "            3. triple quote"
   ]
  },
  {
   "cell_type": "code",
   "execution_count": 9,
   "id": "2ede550f",
   "metadata": {},
   "outputs": [
    {
     "name": "stdout",
     "output_type": "stream",
     "text": [
      "Mohammed\n"
     ]
    }
   ],
   "source": [
    "name = 'Mohammed'  #single quote\n",
    "print(name)"
   ]
  },
  {
   "cell_type": "code",
   "execution_count": 10,
   "id": "2f7263e0",
   "metadata": {},
   "outputs": [
    {
     "name": "stdout",
     "output_type": "stream",
     "text": [
      "Majeed\n"
     ]
    }
   ],
   "source": [
    "name2 = \"Majeed\" #double quote\n",
    "print(name2)"
   ]
  },
  {
   "cell_type": "code",
   "execution_count": 11,
   "id": "a1add165",
   "metadata": {},
   "outputs": [
    {
     "name": "stdout",
     "output_type": "stream",
     "text": [
      "Mohammed Abdul Majeed\n"
     ]
    }
   ],
   "source": [
    "name3 = \"\"\"Mohammed Abdul Majeed\"\"\" #triple quote\n",
    "print(name3)"
   ]
  },
  {
   "cell_type": "code",
   "execution_count": null,
   "id": "493b1b99",
   "metadata": {},
   "outputs": [],
   "source": []
  }
 ],
 "metadata": {
  "kernelspec": {
   "display_name": "Python 3",
   "language": "python",
   "name": "python3"
  },
  "language_info": {
   "codemirror_mode": {
    "name": "ipython",
    "version": 3
   },
   "file_extension": ".py",
   "mimetype": "text/x-python",
   "name": "python",
   "nbconvert_exporter": "python",
   "pygments_lexer": "ipython3",
   "version": "3.8.8"
  }
 },
 "nbformat": 4,
 "nbformat_minor": 5
}
