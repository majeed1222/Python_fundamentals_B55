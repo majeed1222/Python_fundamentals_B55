{
 "cells": [
  {
   "cell_type": "code",
   "execution_count": null,
   "id": "005aa016",
   "metadata": {},
   "outputs": [],
   "source": [
    "Introduction to list datatype:"
   ]
  },
  {
   "cell_type": "code",
   "execution_count": null,
   "id": "a2cc65e3",
   "metadata": {},
   "outputs": [],
   "source": [
    "definition: A list is a collection of items declared in a particular order.\n",
    "classification: it is classified as a mutable datatype\n",
    "how to define the list ? []"
   ]
  },
  {
   "cell_type": "code",
   "execution_count": null,
   "id": "4e4bcfb2",
   "metadata": {},
   "outputs": [],
   "source": []
  },
  {
   "cell_type": "code",
   "execution_count": 2,
   "id": "3ce5b33d",
   "metadata": {},
   "outputs": [],
   "source": [
    "months = ['january','march','april','may']"
   ]
  },
  {
   "cell_type": "code",
   "execution_count": 3,
   "id": "d8d4229c",
   "metadata": {},
   "outputs": [
    {
     "name": "stdout",
     "output_type": "stream",
     "text": [
      "['january', 'march', 'april', 'may']\n"
     ]
    }
   ],
   "source": [
    "print(months)"
   ]
  },
  {
   "cell_type": "code",
   "execution_count": null,
   "id": "29279ebd",
   "metadata": {},
   "outputs": [],
   "source": []
  },
  {
   "cell_type": "code",
   "execution_count": null,
   "id": "17e7fca3",
   "metadata": {},
   "outputs": [],
   "source": [
    "Introduction to indexing : 0,1,2,3,4,..............n"
   ]
  },
  {
   "cell_type": "code",
   "execution_count": 4,
   "id": "71a5510c",
   "metadata": {},
   "outputs": [
    {
     "name": "stdout",
     "output_type": "stream",
     "text": [
      "march\n"
     ]
    }
   ],
   "source": [
    "print(months[1])"
   ]
  },
  {
   "cell_type": "code",
   "execution_count": null,
   "id": "d3e1e04b",
   "metadata": {},
   "outputs": [],
   "source": [
    "#req : i want to access april month from the above list...?"
   ]
  },
  {
   "cell_type": "code",
   "execution_count": 6,
   "id": "557ff81e",
   "metadata": {},
   "outputs": [
    {
     "name": "stdout",
     "output_type": "stream",
     "text": [
      "may\n"
     ]
    }
   ],
   "source": [
    "print(months[3])"
   ]
  },
  {
   "cell_type": "code",
   "execution_count": null,
   "id": "973c76ec",
   "metadata": {},
   "outputs": [],
   "source": []
  },
  {
   "cell_type": "code",
   "execution_count": null,
   "id": "0a38babe",
   "metadata": {},
   "outputs": [],
   "source": [
    "1. how to add new elements to the list...?\n",
    "2. how to modify the elements\n",
    "3. how to delete the elements in the list..?"
   ]
  },
  {
   "cell_type": "code",
   "execution_count": null,
   "id": "defbcb56",
   "metadata": {},
   "outputs": [],
   "source": [
    "#req : i want to add june month to the above list?"
   ]
  },
  {
   "cell_type": "code",
   "execution_count": 7,
   "id": "4a2a5a72",
   "metadata": {},
   "outputs": [],
   "source": [
    "months.append('june')"
   ]
  },
  {
   "cell_type": "code",
   "execution_count": 8,
   "id": "03a02f4b",
   "metadata": {},
   "outputs": [
    {
     "name": "stdout",
     "output_type": "stream",
     "text": [
      "['january', 'march', 'april', 'may', 'june']\n"
     ]
    }
   ],
   "source": [
    "print(months)"
   ]
  },
  {
   "cell_type": "code",
   "execution_count": null,
   "id": "d95770e6",
   "metadata": {},
   "outputs": [],
   "source": [
    "#req : i want to add july month to the above list?"
   ]
  },
  {
   "cell_type": "code",
   "execution_count": 9,
   "id": "fcda4ae3",
   "metadata": {},
   "outputs": [
    {
     "name": "stdout",
     "output_type": "stream",
     "text": [
      "['january', 'march', 'april', 'may', 'june', 'july']\n"
     ]
    }
   ],
   "source": [
    "months.append('july')\n",
    "print(months)"
   ]
  },
  {
   "cell_type": "code",
   "execution_count": null,
   "id": "db51d393",
   "metadata": {},
   "outputs": [],
   "source": [
    "#req : i want to add february month to the above list at the first index?"
   ]
  },
  {
   "cell_type": "code",
   "execution_count": 10,
   "id": "7981843c",
   "metadata": {},
   "outputs": [
    {
     "name": "stdout",
     "output_type": "stream",
     "text": [
      "['january', 'february', 'march', 'april', 'may', 'june', 'july']\n"
     ]
    }
   ],
   "source": [
    "months.insert(1,'february')\n",
    "print(months)"
   ]
  },
  {
   "cell_type": "code",
   "execution_count": null,
   "id": "09414f2a",
   "metadata": {},
   "outputs": [],
   "source": [
    "#interview question --- what is the difference between append and insert method in a list?"
   ]
  },
  {
   "cell_type": "code",
   "execution_count": null,
   "id": "978edb93",
   "metadata": {},
   "outputs": [],
   "source": []
  },
  {
   "cell_type": "code",
   "execution_count": null,
   "id": "471dad73",
   "metadata": {},
   "outputs": [],
   "source": [
    "how to modify the elements in the list?"
   ]
  },
  {
   "cell_type": "code",
   "execution_count": 11,
   "id": "18e58bac",
   "metadata": {},
   "outputs": [],
   "source": [
    "# i want to change the july month to august"
   ]
  },
  {
   "cell_type": "code",
   "execution_count": 12,
   "id": "375d48a6",
   "metadata": {},
   "outputs": [],
   "source": [
    "months[6] = 'august'"
   ]
  },
  {
   "cell_type": "code",
   "execution_count": 13,
   "id": "c66ca0b1",
   "metadata": {},
   "outputs": [
    {
     "name": "stdout",
     "output_type": "stream",
     "text": [
      "['january', 'february', 'march', 'april', 'may', 'june', 'august']\n"
     ]
    }
   ],
   "source": [
    "print(months)"
   ]
  },
  {
   "cell_type": "code",
   "execution_count": null,
   "id": "cfe20725",
   "metadata": {},
   "outputs": [],
   "source": []
  },
  {
   "cell_type": "code",
   "execution_count": null,
   "id": "45fd383d",
   "metadata": {},
   "outputs": [],
   "source": [
    "3. how to delete the elements in the list?"
   ]
  },
  {
   "cell_type": "code",
   "execution_count": null,
   "id": "260a7718",
   "metadata": {},
   "outputs": [],
   "source": [
    "#req : i want to delete august month from the list?"
   ]
  },
  {
   "cell_type": "code",
   "execution_count": 14,
   "id": "5f216927",
   "metadata": {},
   "outputs": [],
   "source": [
    "del months[6]"
   ]
  },
  {
   "cell_type": "code",
   "execution_count": 15,
   "id": "10f0d3d3",
   "metadata": {},
   "outputs": [
    {
     "name": "stdout",
     "output_type": "stream",
     "text": [
      "['january', 'february', 'march', 'april', 'may', 'june']\n"
     ]
    }
   ],
   "source": [
    "print(months)"
   ]
  },
  {
   "cell_type": "code",
   "execution_count": null,
   "id": "17d2afc1",
   "metadata": {},
   "outputs": [],
   "source": []
  }
 ],
 "metadata": {
  "kernelspec": {
   "display_name": "Python 3",
   "language": "python",
   "name": "python3"
  },
  "language_info": {
   "codemirror_mode": {
    "name": "ipython",
    "version": 3
   },
   "file_extension": ".py",
   "mimetype": "text/x-python",
   "name": "python",
   "nbconvert_exporter": "python",
   "pygments_lexer": "ipython3",
   "version": "3.8.8"
  }
 },
 "nbformat": 4,
 "nbformat_minor": 5
}
