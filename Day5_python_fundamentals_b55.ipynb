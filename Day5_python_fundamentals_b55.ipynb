{
 "cells": [
  {
   "cell_type": "code",
   "execution_count": null,
   "id": "efeceab5",
   "metadata": {},
   "outputs": [],
   "source": [
    "Continuation with list data type:"
   ]
  },
  {
   "cell_type": "code",
   "execution_count": null,
   "id": "ef0ab426",
   "metadata": {},
   "outputs": [],
   "source": []
  },
  {
   "cell_type": "code",
   "execution_count": null,
   "id": "eff9eabd",
   "metadata": {},
   "outputs": [],
   "source": [
    "organising the list datatype:"
   ]
  },
  {
   "cell_type": "code",
   "execution_count": null,
   "id": "d5a3f2cc",
   "metadata": {},
   "outputs": [],
   "source": []
  },
  {
   "cell_type": "code",
   "execution_count": 1,
   "id": "4e01bf4c",
   "metadata": {},
   "outputs": [],
   "source": [
    "cars = ['benz','audi','bmw','maruti','kia','hyundai','toyota']"
   ]
  },
  {
   "cell_type": "code",
   "execution_count": 2,
   "id": "327511e4",
   "metadata": {},
   "outputs": [
    {
     "name": "stdout",
     "output_type": "stream",
     "text": [
      "['benz', 'audi', 'bmw', 'maruti', 'kia', 'hyundai', 'toyota']\n"
     ]
    }
   ],
   "source": [
    "print(cars)"
   ]
  },
  {
   "cell_type": "code",
   "execution_count": null,
   "id": "74a2d43a",
   "metadata": {},
   "outputs": [],
   "source": []
  },
  {
   "cell_type": "code",
   "execution_count": null,
   "id": "1c222e07",
   "metadata": {},
   "outputs": [],
   "source": [
    "#req: i want to get the output in the alphabetical order -->  A--Z"
   ]
  },
  {
   "cell_type": "code",
   "execution_count": null,
   "id": "e16511ab",
   "metadata": {},
   "outputs": [],
   "source": [
    "1. temp approach  --> sorted  ---> we can get the original order of the list assigned initially\n",
    "2. permanent approach  --> sord --> changes are implied permanently"
   ]
  },
  {
   "cell_type": "code",
   "execution_count": null,
   "id": "d140721a",
   "metadata": {},
   "outputs": [],
   "source": []
  },
  {
   "cell_type": "code",
   "execution_count": 3,
   "id": "4ff49a80",
   "metadata": {},
   "outputs": [
    {
     "name": "stdout",
     "output_type": "stream",
     "text": [
      "['audi', 'benz', 'bmw', 'hyundai', 'kia', 'maruti', 'toyota']\n"
     ]
    }
   ],
   "source": [
    "print(sorted(cars))"
   ]
  },
  {
   "cell_type": "code",
   "execution_count": 4,
   "id": "5fa32588",
   "metadata": {},
   "outputs": [
    {
     "name": "stdout",
     "output_type": "stream",
     "text": [
      "['benz', 'audi', 'bmw', 'maruti', 'kia', 'hyundai', 'toyota']\n"
     ]
    }
   ],
   "source": [
    "print(cars)  #original order"
   ]
  },
  {
   "cell_type": "code",
   "execution_count": 6,
   "id": "bb4569cb",
   "metadata": {},
   "outputs": [],
   "source": [
    "cars.sort()"
   ]
  },
  {
   "cell_type": "code",
   "execution_count": 7,
   "id": "c733f18d",
   "metadata": {},
   "outputs": [
    {
     "name": "stdout",
     "output_type": "stream",
     "text": [
      "['audi', 'benz', 'bmw', 'hyundai', 'kia', 'maruti', 'toyota']\n"
     ]
    }
   ],
   "source": [
    "print(cars)"
   ]
  },
  {
   "cell_type": "code",
   "execution_count": null,
   "id": "1b222f70",
   "metadata": {},
   "outputs": [],
   "source": []
  },
  {
   "cell_type": "code",
   "execution_count": null,
   "id": "06f114fb",
   "metadata": {},
   "outputs": [],
   "source": [
    "interview question: what is the difference between sorted and sort method in list data type:\n",
    "        Ans: sorted sorts temporarily, sort sorts permanently"
   ]
  },
  {
   "cell_type": "code",
   "execution_count": null,
   "id": "7136d40c",
   "metadata": {},
   "outputs": [],
   "source": []
  },
  {
   "cell_type": "code",
   "execution_count": null,
   "id": "8b8e9c51",
   "metadata": {},
   "outputs": [],
   "source": [
    "#req: i want to get the output in the reverse alphabetical order -->  Z--A"
   ]
  },
  {
   "cell_type": "code",
   "execution_count": 8,
   "id": "20b35743",
   "metadata": {},
   "outputs": [],
   "source": [
    "cars.reverse()"
   ]
  },
  {
   "cell_type": "code",
   "execution_count": 9,
   "id": "b3222159",
   "metadata": {},
   "outputs": [
    {
     "name": "stdout",
     "output_type": "stream",
     "text": [
      "['toyota', 'maruti', 'kia', 'hyundai', 'bmw', 'benz', 'audi']\n"
     ]
    }
   ],
   "source": [
    "print(cars)"
   ]
  },
  {
   "cell_type": "code",
   "execution_count": null,
   "id": "eb8df271",
   "metadata": {},
   "outputs": [],
   "source": [
    "#req: i want to know the count of no of elements in the list?"
   ]
  },
  {
   "cell_type": "code",
   "execution_count": 10,
   "id": "942e83ce",
   "metadata": {},
   "outputs": [
    {
     "data": {
      "text/plain": [
       "7"
      ]
     },
     "execution_count": 10,
     "metadata": {},
     "output_type": "execute_result"
    }
   ],
   "source": [
    "len(cars)"
   ]
  },
  {
   "cell_type": "code",
   "execution_count": null,
   "id": "ba06f706",
   "metadata": {},
   "outputs": [],
   "source": []
  },
  {
   "cell_type": "code",
   "execution_count": null,
   "id": "5cf33fa4",
   "metadata": {},
   "outputs": [],
   "source": [
    "Introduction of slicing of lists:"
   ]
  },
  {
   "cell_type": "code",
   "execution_count": null,
   "id": "ab113fb5",
   "metadata": {},
   "outputs": [],
   "source": []
  },
  {
   "cell_type": "code",
   "execution_count": 11,
   "id": "54a19975",
   "metadata": {},
   "outputs": [],
   "source": [
    "carModels = ['corolla','camry','accent','elantra','sportage','pegas','sunny','sentra']"
   ]
  },
  {
   "cell_type": "code",
   "execution_count": null,
   "id": "c9fda30b",
   "metadata": {},
   "outputs": [],
   "source": []
  },
  {
   "cell_type": "code",
   "execution_count": null,
   "id": "d759e8be",
   "metadata": {},
   "outputs": [],
   "source": [
    "#general syntax of slicing:"
   ]
  },
  {
   "cell_type": "code",
   "execution_count": null,
   "id": "a3af5150",
   "metadata": {},
   "outputs": [],
   "source": [
    "startvalue : stopvalue : stepcount"
   ]
  },
  {
   "cell_type": "code",
   "execution_count": null,
   "id": "170a773e",
   "metadata": {},
   "outputs": [],
   "source": [
    "stopvalue/lastvalue is always exclusive, if we want to include the stopvalue increment the index by +1"
   ]
  },
  {
   "cell_type": "code",
   "execution_count": null,
   "id": "a7d25cfa",
   "metadata": {},
   "outputs": [],
   "source": [
    "#req: i want to get corolla and camry in the below list output?"
   ]
  },
  {
   "cell_type": "code",
   "execution_count": 12,
   "id": "ccb37a3f",
   "metadata": {},
   "outputs": [
    {
     "name": "stdout",
     "output_type": "stream",
     "text": [
      "['corolla']\n"
     ]
    }
   ],
   "source": [
    "print(carModels[0:1])"
   ]
  },
  {
   "cell_type": "code",
   "execution_count": null,
   "id": "4c39c21c",
   "metadata": {},
   "outputs": [],
   "source": [
    "# as the stopvalue is exclusive it will exclude the index of stopvalue, so to include it we have to add 1 to it."
   ]
  },
  {
   "cell_type": "code",
   "execution_count": 13,
   "id": "47483b3d",
   "metadata": {},
   "outputs": [
    {
     "name": "stdout",
     "output_type": "stream",
     "text": [
      "['corolla', 'camry']\n"
     ]
    }
   ],
   "source": [
    "print(carModels[0:2])"
   ]
  },
  {
   "cell_type": "code",
   "execution_count": null,
   "id": "1dc20891",
   "metadata": {},
   "outputs": [],
   "source": [
    "#req: i want to get accent and elantra in the below list output?"
   ]
  },
  {
   "cell_type": "code",
   "execution_count": 14,
   "id": "c9eb5cf9",
   "metadata": {},
   "outputs": [
    {
     "name": "stdout",
     "output_type": "stream",
     "text": [
      "['accent', 'elantra']\n"
     ]
    }
   ],
   "source": [
    "print(carModels[2:4])"
   ]
  },
  {
   "cell_type": "code",
   "execution_count": 15,
   "id": "f6d9fb78",
   "metadata": {},
   "outputs": [],
   "source": [
    "#req: i want to get the alternate names in the below list output?"
   ]
  },
  {
   "cell_type": "code",
   "execution_count": 17,
   "id": "7651791d",
   "metadata": {},
   "outputs": [
    {
     "name": "stdout",
     "output_type": "stream",
     "text": [
      "['corolla', 'accent', 'sportage', 'sunny']\n"
     ]
    }
   ],
   "source": [
    "print(carModels[0:8:2])"
   ]
  },
  {
   "cell_type": "code",
   "execution_count": null,
   "id": "1483058d",
   "metadata": {},
   "outputs": [],
   "source": []
  }
 ],
 "metadata": {
  "kernelspec": {
   "display_name": "Python 3",
   "language": "python",
   "name": "python3"
  },
  "language_info": {
   "codemirror_mode": {
    "name": "ipython",
    "version": 3
   },
   "file_extension": ".py",
   "mimetype": "text/x-python",
   "name": "python",
   "nbconvert_exporter": "python",
   "pygments_lexer": "ipython3",
   "version": "3.8.8"
  }
 },
 "nbformat": 4,
 "nbformat_minor": 5
}
