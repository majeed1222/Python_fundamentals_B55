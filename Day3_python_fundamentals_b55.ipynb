{
 "cells": [
  {
   "cell_type": "code",
   "execution_count": null,
   "id": "c97dd8d7",
   "metadata": {},
   "outputs": [],
   "source": [
    "Continuation of strings:"
   ]
  },
  {
   "cell_type": "code",
   "execution_count": null,
   "id": "0bb188b1",
   "metadata": {},
   "outputs": [],
   "source": [
    "Introduction to string methods:"
   ]
  },
  {
   "cell_type": "code",
   "execution_count": null,
   "id": "96750160",
   "metadata": {},
   "outputs": [],
   "source": [
    "Methods are by default builtin programs that we can use."
   ]
  },
  {
   "cell_type": "code",
   "execution_count": 7,
   "id": "831395cb",
   "metadata": {},
   "outputs": [
    {
     "data": {
      "text/plain": [
       "str"
      ]
     },
     "execution_count": 7,
     "metadata": {},
     "output_type": "execute_result"
    }
   ],
   "source": [
    "name = 'majeed'\n",
    "type(name)"
   ]
  },
  {
   "cell_type": "code",
   "execution_count": null,
   "id": "3a2b1f43",
   "metadata": {},
   "outputs": [],
   "source": [
    "type --> it is used to validate the data type"
   ]
  },
  {
   "cell_type": "code",
   "execution_count": null,
   "id": "32b3ca01",
   "metadata": {},
   "outputs": [],
   "source": []
  },
  {
   "cell_type": "code",
   "execution_count": null,
   "id": "32c92ac8",
   "metadata": {},
   "outputs": [],
   "source": [
    "string --> str"
   ]
  },
  {
   "cell_type": "code",
   "execution_count": null,
   "id": "5c9863cc",
   "metadata": {},
   "outputs": [],
   "source": []
  },
  {
   "cell_type": "code",
   "execution_count": 3,
   "id": "37403d26",
   "metadata": {},
   "outputs": [
    {
     "name": "stdout",
     "output_type": "stream",
     "text": [
      "abdul Majeed\n"
     ]
    }
   ],
   "source": [
    "full_name = 'abdul Majeed'\n",
    "print(full_name)"
   ]
  },
  {
   "cell_type": "code",
   "execution_count": 8,
   "id": "cafe4b1b",
   "metadata": {},
   "outputs": [
    {
     "name": "stdout",
     "output_type": "stream",
     "text": [
      "Abdul Majeed\n"
     ]
    }
   ],
   "source": [
    "print(full_name.title())"
   ]
  },
  {
   "cell_type": "code",
   "execution_count": null,
   "id": "f59fe5ee",
   "metadata": {},
   "outputs": [],
   "source": [
    "#req: i want to get the complete name in the capital letters?"
   ]
  },
  {
   "cell_type": "code",
   "execution_count": 9,
   "id": "9c4518b8",
   "metadata": {},
   "outputs": [
    {
     "name": "stdout",
     "output_type": "stream",
     "text": [
      "ABDUL MAJEED\n"
     ]
    }
   ],
   "source": [
    "print(full_name.upper())"
   ]
  },
  {
   "cell_type": "code",
   "execution_count": null,
   "id": "4fc6e7c9",
   "metadata": {},
   "outputs": [],
   "source": [
    "#req: i want to get the complete name in the small case letters?"
   ]
  },
  {
   "cell_type": "code",
   "execution_count": 10,
   "id": "f4f223ad",
   "metadata": {},
   "outputs": [
    {
     "name": "stdout",
     "output_type": "stream",
     "text": [
      "abdul majeed\n"
     ]
    }
   ],
   "source": [
    "print(full_name.lower())"
   ]
  },
  {
   "cell_type": "code",
   "execution_count": null,
   "id": "193466f2",
   "metadata": {},
   "outputs": [],
   "source": []
  },
  {
   "cell_type": "code",
   "execution_count": null,
   "id": "6783ec94",
   "metadata": {},
   "outputs": [],
   "source": [
    "Introduction to f strings :"
   ]
  },
  {
   "cell_type": "code",
   "execution_count": null,
   "id": "c43fc690",
   "metadata": {},
   "outputs": [],
   "source": [
    "# general syntax of f strings:"
   ]
  },
  {
   "cell_type": "code",
   "execution_count": null,
   "id": "1c97d823",
   "metadata": {},
   "outputs": [],
   "source": [
    "f\" custom words {placeholder1} {placeholder2} .......{placeholder..n}\""
   ]
  },
  {
   "cell_type": "code",
   "execution_count": 20,
   "id": "d7898f10",
   "metadata": {},
   "outputs": [],
   "source": [
    "firstname = 'majeed'\n",
    "lastname = 'mohammed'"
   ]
  },
  {
   "cell_type": "code",
   "execution_count": null,
   "id": "ed82ac19",
   "metadata": {},
   "outputs": [],
   "source": []
  },
  {
   "cell_type": "code",
   "execution_count": 21,
   "id": "4c5d6063",
   "metadata": {},
   "outputs": [],
   "source": [
    "#req: i want to get the fullname ?"
   ]
  },
  {
   "cell_type": "code",
   "execution_count": 22,
   "id": "97c5d49a",
   "metadata": {
    "scrolled": true
   },
   "outputs": [
    {
     "name": "stdout",
     "output_type": "stream",
     "text": [
      "majeed mohammed\n"
     ]
    }
   ],
   "source": [
    "fullname = f\"{firstname} {lastname}\"\n",
    "print(fullname)"
   ]
  },
  {
   "cell_type": "code",
   "execution_count": 23,
   "id": "8f204a39",
   "metadata": {},
   "outputs": [
    {
     "name": "stdout",
     "output_type": "stream",
     "text": [
      "Majeed Mohammed\n"
     ]
    }
   ],
   "source": [
    "print(fullname.title())"
   ]
  },
  {
   "cell_type": "code",
   "execution_count": 25,
   "id": "eb81147f",
   "metadata": {},
   "outputs": [
    {
     "name": "stdout",
     "output_type": "stream",
     "text": [
      "keep up the good work, Majeed Mohammed\n"
     ]
    }
   ],
   "source": [
    "message = f\"keep up the good work, {fullname.title()}\"\n",
    "print(message)"
   ]
  },
  {
   "cell_type": "code",
   "execution_count": null,
   "id": "f4275d6e",
   "metadata": {},
   "outputs": [],
   "source": []
  },
  {
   "cell_type": "code",
   "execution_count": null,
   "id": "73244d73",
   "metadata": {},
   "outputs": [],
   "source": [
    "Adding whitespaces to strings:"
   ]
  },
  {
   "cell_type": "code",
   "execution_count": null,
   "id": "2a65ef8a",
   "metadata": {},
   "outputs": [],
   "source": []
  },
  {
   "cell_type": "code",
   "execution_count": 26,
   "id": "47f14706",
   "metadata": {},
   "outputs": [
    {
     "name": "stdout",
     "output_type": "stream",
     "text": [
      "favourite_language:pythonc++javaccobol\n"
     ]
    }
   ],
   "source": [
    "print(\"favourite_language:pythonc++javaccobol\")"
   ]
  },
  {
   "cell_type": "code",
   "execution_count": 27,
   "id": "39e524c3",
   "metadata": {},
   "outputs": [
    {
     "name": "stdout",
     "output_type": "stream",
     "text": [
      "favourite_language:python\n",
      "c++\n",
      "java\n",
      "c\n",
      "cobol\n"
     ]
    }
   ],
   "source": [
    "print(\"favourite_language:python\\nc++\\njava\\nc\\ncobol\")"
   ]
  },
  {
   "cell_type": "code",
   "execution_count": null,
   "id": "09ab0f5e",
   "metadata": {},
   "outputs": [],
   "source": [
    "\\n --> new line delimiter"
   ]
  },
  {
   "cell_type": "code",
   "execution_count": null,
   "id": "21bb4983",
   "metadata": {},
   "outputs": [],
   "source": [
    "\\t --> tab delimiter"
   ]
  },
  {
   "cell_type": "code",
   "execution_count": 28,
   "id": "eb07bb1b",
   "metadata": {},
   "outputs": [
    {
     "name": "stdout",
     "output_type": "stream",
     "text": [
      "favourite_language:python\n",
      "\tc++\n",
      "\tjava\n",
      "\tc\n",
      "\tcobol\n"
     ]
    }
   ],
   "source": [
    "print(\"favourite_language:python\\n\\tc++\\n\\tjava\\n\\tc\\n\\tcobol\")"
   ]
  },
  {
   "cell_type": "code",
   "execution_count": null,
   "id": "dc5e5c08",
   "metadata": {},
   "outputs": [],
   "source": []
  },
  {
   "cell_type": "code",
   "execution_count": null,
   "id": "a80806b5",
   "metadata": {},
   "outputs": [],
   "source": [
    "Removing whitespaces from strings:"
   ]
  },
  {
   "cell_type": "code",
   "execution_count": 29,
   "id": "c7016e2a",
   "metadata": {},
   "outputs": [
    {
     "name": "stdout",
     "output_type": "stream",
     "text": [
      "python\n"
     ]
    }
   ],
   "source": [
    "name = 'python'\n",
    "print(name)"
   ]
  },
  {
   "cell_type": "code",
   "execution_count": null,
   "id": "372a7439",
   "metadata": {},
   "outputs": [],
   "source": []
  },
  {
   "cell_type": "code",
   "execution_count": 30,
   "id": "95a22cfa",
   "metadata": {},
   "outputs": [
    {
     "name": "stdout",
     "output_type": "stream",
     "text": [
      "    python\n"
     ]
    }
   ],
   "source": [
    "name2 = '    python'   #left side\n",
    "print(name2)"
   ]
  },
  {
   "cell_type": "code",
   "execution_count": null,
   "id": "956b9e6f",
   "metadata": {},
   "outputs": [],
   "source": []
  },
  {
   "cell_type": "code",
   "execution_count": 31,
   "id": "7a4fe7f7",
   "metadata": {},
   "outputs": [
    {
     "name": "stdout",
     "output_type": "stream",
     "text": [
      "python   \n"
     ]
    }
   ],
   "source": [
    "name3 = 'python   '   #right side\n",
    "print(name3)"
   ]
  },
  {
   "cell_type": "code",
   "execution_count": 32,
   "id": "6e876580",
   "metadata": {},
   "outputs": [
    {
     "data": {
      "text/plain": [
       "'python'"
      ]
     },
     "execution_count": 32,
     "metadata": {},
     "output_type": "execute_result"
    }
   ],
   "source": [
    "name2.lstrip()"
   ]
  },
  {
   "cell_type": "code",
   "execution_count": 33,
   "id": "e0091b2e",
   "metadata": {},
   "outputs": [
    {
     "data": {
      "text/plain": [
       "'python'"
      ]
     },
     "execution_count": 33,
     "metadata": {},
     "output_type": "execute_result"
    }
   ],
   "source": [
    "name3.rstrip()"
   ]
  },
  {
   "cell_type": "code",
   "execution_count": 34,
   "id": "95a1ee78",
   "metadata": {},
   "outputs": [
    {
     "name": "stdout",
     "output_type": "stream",
     "text": [
      "    python    \n"
     ]
    }
   ],
   "source": [
    "name4 = '    python    '   #both sides\n",
    "print(name4)"
   ]
  },
  {
   "cell_type": "code",
   "execution_count": 35,
   "id": "96cdac12",
   "metadata": {},
   "outputs": [
    {
     "data": {
      "text/plain": [
       "'python'"
      ]
     },
     "execution_count": 35,
     "metadata": {},
     "output_type": "execute_result"
    }
   ],
   "source": [
    "name4.strip()"
   ]
  },
  {
   "cell_type": "code",
   "execution_count": null,
   "id": "68837958",
   "metadata": {},
   "outputs": [],
   "source": []
  }
 ],
 "metadata": {
  "kernelspec": {
   "display_name": "Python 3",
   "language": "python",
   "name": "python3"
  },
  "language_info": {
   "codemirror_mode": {
    "name": "ipython",
    "version": 3
   },
   "file_extension": ".py",
   "mimetype": "text/x-python",
   "name": "python",
   "nbconvert_exporter": "python",
   "pygments_lexer": "ipython3",
   "version": "3.8.8"
  }
 },
 "nbformat": 4,
 "nbformat_minor": 5
}
